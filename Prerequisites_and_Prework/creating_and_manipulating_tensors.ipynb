{
  "nbformat": 4,
  "nbformat_minor": 0,
  "metadata": {
    "colab": {
      "name": "Copy of creating_and_manipulating_tensors.ipynb",
      "version": "0.3.2",
      "views": {},
      "default_view": {},
      "provenance": [
        {
          "file_id": "/v2/external/notebooks/mlcc/creating_and_manipulating_tensors.ipynb",
          "timestamp": 1528065800857
        }
      ],
      "collapsed_sections": [
        "JndnmDMp66FL",
        "EYzU56M4MG_x",
        "Kt7aojXkR_qS"
      ]
    }
  },
  "cells": [
    {
      "metadata": {
        "id": "JndnmDMp66FL",
        "colab_type": "text"
      },
      "cell_type": "markdown",
      "source": [
        "#### Copyright 2017 Google LLC."
      ]
    },
    {
      "metadata": {
        "id": "hMqWDc_m6rUC",
        "colab_type": "code",
        "colab": {
          "autoexec": {
            "startup": false,
            "wait_interval": 0
          }
        },
        "cellView": "both"
      },
      "cell_type": "code",
      "source": [
        "# Licensed under the Apache License, Version 2.0 (the \"License\");\n",
        "# you may not use this file except in compliance with the License.\n",
        "# You may obtain a copy of the License at\n",
        "#\n",
        "# https://www.apache.org/licenses/LICENSE-2.0\n",
        "#\n",
        "# Unless required by applicable law or agreed to in writing, software\n",
        "# distributed under the License is distributed on an \"AS IS\" BASIS,\n",
        "# WITHOUT WARRANTIES OR CONDITIONS OF ANY KIND, either express or implied.\n",
        "# See the License for the specific language governing permissions and\n",
        "# limitations under the License."
      ],
      "execution_count": 0,
      "outputs": []
    },
    {
      "metadata": {
        "id": "P0bQXjp499sl",
        "colab_type": "text"
      },
      "cell_type": "markdown",
      "source": [
        "# Creating and Manipulating Tensors"
      ]
    },
    {
      "metadata": {
        "id": "I3BCiWJiCGsv",
        "colab_type": "text"
      },
      "cell_type": "markdown",
      "source": [
        "**Learning Objectives:**\n",
        "  * Initialize and assign TensorFlow `Variable`s\n",
        "  * Create and manipulate tensors\n",
        "  * Refresh your memory about addition and multiplication in linear algebra (consult an introduction to matrix [addition](https://en.wikipedia.org/wiki/Matrix_addition) and [multiplication](https://en.wikipedia.org/wiki/Matrix_multiplication) if these topics are new to you)\n",
        "  * Familiarize yourself with basic TensorFlow math and array operations"
      ]
    },
    {
      "metadata": {
        "id": "85evKRsOIC5a",
        "colab_type": "code",
        "colab": {
          "autoexec": {
            "startup": false,
            "wait_interval": 0
          }
        }
      },
      "cell_type": "code",
      "source": [
        "import tensorflow as tf"
      ],
      "execution_count": 0,
      "outputs": []
    },
    {
      "metadata": {
        "id": "PT1sorfH-DdQ",
        "colab_type": "text"
      },
      "cell_type": "markdown",
      "source": [
        "## Vector Addition\n",
        "\n",
        "You can perform many typical mathematical operations on tensors ([TF API](https://www.tensorflow.org/api_guides/python/math_ops)). The following code\n",
        "creates and manipulates two vectors (1-D tensors), each having exactly six elements:"
      ]
    },
    {
      "metadata": {
        "id": "ng37e6ur-GZo",
        "colab_type": "code",
        "colab": {
          "autoexec": {
            "startup": false,
            "wait_interval": 0
          },
          "base_uri": "https://localhost:8080/",
          "height": 35
        },
        "outputId": "9ccac014-6ae9-49c3-a4f5-d01997ca2f57",
        "executionInfo": {
          "status": "ok",
          "timestamp": 1528061306240,
          "user_tz": 360,
          "elapsed": 404,
          "user": {
            "displayName": "",
            "photoUrl": "",
            "userId": ""
          }
        }
      },
      "cell_type": "code",
      "source": [
        "with tf.Graph().as_default():\n",
        "  # Create a six-element vector (1-D tensor).\n",
        "  primes = tf.constant([2, 3, 5, 7, 11, 13], dtype=tf.int32)\n",
        "\n",
        "  # Create another six-element vector. Each element in the vector will be\n",
        "  # initialized to 1. The first argument is the shape of the tensor (more\n",
        "  # on shapes below).\n",
        "  ones = tf.ones([6], dtype=tf.int32)\n",
        "\n",
        "  # Add the two vectors. The resulting tensor is a six-element vector.\n",
        "  just_beyond_primes = tf.add(primes, ones)\n",
        "\n",
        "  # Create a session to run the default graph.\n",
        "  with tf.Session() as sess:\n",
        "    print just_beyond_primes.eval()"
      ],
      "execution_count": 0,
      "outputs": [
        {
          "output_type": "stream",
          "text": [
            "[ 3  4  6  8 12 14]\n"
          ],
          "name": "stdout"
        }
      ]
    },
    {
      "metadata": {
        "id": "fVvaXzzMGZid",
        "colab_type": "text"
      },
      "cell_type": "markdown",
      "source": [
        "### Tensor Shapes\n",
        "\n",
        "Shapes are used to characterize the size and number of dimensions of a tensor. The shape of a tensor is expressed as `list`, with the `i`th element representing the size along dimension `i`. The length of the list then indicates the rank of the tensor (i.e., the number of dimensions).\n",
        "\n",
        "For more information, see the [TensorFlow documentation](https://www.tensorflow.org/programmers_guide/tensors#shape).\n",
        "\n",
        "A few basic examples:"
      ]
    },
    {
      "metadata": {
        "id": "PWzvJnIAH_cF",
        "colab_type": "code",
        "colab": {
          "autoexec": {
            "startup": false,
            "wait_interval": 0
          },
          "base_uri": "https://localhost:8080/",
          "height": 143
        },
        "outputId": "03b76f4c-b485-4ef9-a1f8-f5ae72293419",
        "executionInfo": {
          "status": "ok",
          "timestamp": 1528061787720,
          "user_tz": 360,
          "elapsed": 377,
          "user": {
            "displayName": "",
            "photoUrl": "",
            "userId": ""
          }
        }
      },
      "cell_type": "code",
      "source": [
        "with tf.Graph().as_default():\n",
        "  # A scalar (0-D tensor).\n",
        "  scalar = tf.zeros([])\n",
        "\n",
        "  # A vector with 3 elements.\n",
        "  vector = tf.zeros([3])\n",
        "\n",
        "  # A matrix with 2 rows and 3 columns.\n",
        "  matrix = tf.zeros([2, 3])\n",
        "\n",
        "  with tf.Session() as sess:\n",
        "    print 'scalar has shape', scalar.get_shape(), 'and value:\\n', scalar.eval()\n",
        "    print 'vector has shape', vector.get_shape(), 'and value:\\n', vector.eval()\n",
        "    print 'matrix has shape', matrix.get_shape(), 'and value:\\n', matrix.eval()\n",
        "    \n",
        "#     print \"scalar.shape = \", scalar.shape\n",
        "#     print \"vector.shape = \", vector.shape\n",
        "#     print \"matrix.shape = \", matrix.shape\n"
      ],
      "execution_count": 0,
      "outputs": [
        {
          "output_type": "stream",
          "text": [
            "scalar has shape () and value:\n",
            "0.0\n",
            "vector has shape (3,) and value:\n",
            "[0. 0. 0.]\n",
            "matrix has shape (2, 3) and value:\n",
            "[[0. 0. 0.]\n",
            " [0. 0. 0.]]\n"
          ],
          "name": "stdout"
        }
      ]
    },
    {
      "metadata": {
        "id": "musamrLavR5S",
        "colab_type": "text"
      },
      "cell_type": "markdown",
      "source": [
        "### Broadcasting\n",
        "\n",
        "In mathematics, you can only perform element-wise operations (e.g. *add* and *equals*) on tensors of the same shape. In TensorFlow, however, you may perform operations on tensors that would traditionally have been incompatible. TensorFlow supports **broadcasting** (a concept borrowed from numpy), where the smaller array in an element-wise operation is enlarged to have the same shape as the larger array. For example, via broadcasting:\n",
        "\n",
        "* If an operand requires a size `[6]` tensor, a size `[1]` or a size `[]` tensor can serve as an operand.\n",
        "* If an operation requires a size `[4, 6]` tensor, any of the following sizes can serve as an operand:\n",
        "  * `[1, 6]`\n",
        "  * `[6]`\n",
        "  * `[]`\n",
        "* If an operation requires a size `[3, 5, 6]` tensor, any of the following sizes can serve as an operand:\n",
        "\n",
        "  * `[1, 5, 6]`\n",
        "  * `[3, 1, 6]`\n",
        "  * `[3, 5, 1]`\n",
        "  * `[1, 1, 1]`\n",
        "  * `[5, 6]`\n",
        "  * `[1, 6]`\n",
        "  * `[6]`\n",
        "  * `[1]`\n",
        "  * `[]`\n",
        "  \n",
        "**NOTE:** When a tensor is broadcast, its entries are conceptually **copied**. (They are not actually copied for performance reasons. Broadcasting was invented as a performance optimization.)\n",
        "\n",
        "The full broadcasting ruleset is well described in the easy-to-read [numpy broadcasting documentation](http://docs.scipy.org/doc/numpy-1.10.1/user/basics.broadcasting.html).\n",
        "\n",
        "The following code performs the same tensor addition as before, but using broadcasting:"
      ]
    },
    {
      "metadata": {
        "id": "7lys_BeLy2SD",
        "colab_type": "code",
        "colab": {
          "autoexec": {
            "startup": false,
            "wait_interval": 0
          },
          "base_uri": "https://localhost:8080/",
          "height": 35
        },
        "outputId": "f7c86e50-b6ca-4378-e66c-1114a772709c",
        "executionInfo": {
          "status": "ok",
          "timestamp": 1528062311146,
          "user_tz": 360,
          "elapsed": 577,
          "user": {
            "displayName": "",
            "photoUrl": "",
            "userId": ""
          }
        }
      },
      "cell_type": "code",
      "source": [
        "with tf.Graph().as_default():\n",
        "  # Create a six-element vector (1-D tensor).\n",
        "  primes = tf.constant([2, 3, 5, 7, 11, 13], dtype=tf.int32)\n",
        "\n",
        "  # Create a constant scalar with value 1.\n",
        "  ones = tf.constant(1, dtype=tf.int32)\n",
        "\n",
        "  # Add the two tensors. The resulting tensor is a six-element vector.\n",
        "  just_beyond_primes = tf.add(primes, ones)\n",
        "\n",
        "  with tf.Session() as sess:\n",
        "    print just_beyond_primes.eval()"
      ],
      "execution_count": 0,
      "outputs": [
        {
          "output_type": "stream",
          "text": [
            "[ 3  4  6  8 12 14]\n"
          ],
          "name": "stdout"
        }
      ]
    },
    {
      "metadata": {
        "id": "it0P-AV0-Jb4",
        "colab_type": "text"
      },
      "cell_type": "markdown",
      "source": [
        "## Matrix Multiplication\n",
        "\n",
        "In linear algebra, when multiplying two matrices, the number of *columns* of the first matrix must\n",
        "equal the number of *rows* in the second matrix.\n",
        "\n",
        "- It is **_valid_** to multiply a `3x4` matrix by a `4x2` matrix. This will result in a `3x2` matrix.\n",
        "- It is **_invalid_** to multiply a `4x2` matrix by a `3x4` matrix."
      ]
    },
    {
      "metadata": {
        "id": "OVR8QPif-MeS",
        "colab_type": "code",
        "colab": {
          "autoexec": {
            "startup": false,
            "wait_interval": 0
          },
          "base_uri": "https://localhost:8080/",
          "height": 71
        },
        "outputId": "0257efb5-808f-4eb3-e2b0-c9cfb1e300ed",
        "executionInfo": {
          "status": "ok",
          "timestamp": 1528062408593,
          "user_tz": 360,
          "elapsed": 538,
          "user": {
            "displayName": "",
            "photoUrl": "",
            "userId": ""
          }
        }
      },
      "cell_type": "code",
      "source": [
        "with tf.Graph().as_default():\n",
        "  # Create a matrix (2-d tensor) with 3 rows and 4 columns.\n",
        "  x = tf.constant([[5, 2, 4, 3], [5, 1, 6, -2], [-1, 3, -1, -2]],\n",
        "                  dtype=tf.int32)\n",
        "\n",
        "  # Create a matrix with 4 rows and 2 columns.\n",
        "  y = tf.constant([[2, 2], [3, 5], [4, 5], [1, 6]], dtype=tf.int32)\n",
        "\n",
        "  # Multiply `x` by `y`. \n",
        "  # The resulting matrix will have 3 rows and 2 columns.\n",
        "  matrix_multiply_result = tf.matmul(x, y)\n",
        "\n",
        "  with tf.Session() as sess:\n",
        "    print matrix_multiply_result.eval()"
      ],
      "execution_count": 0,
      "outputs": [
        {
          "output_type": "stream",
          "text": [
            "[[35 58]\n",
            " [35 33]\n",
            " [ 1 -4]]\n"
          ],
          "name": "stdout"
        }
      ]
    },
    {
      "metadata": {
        "id": "fziRnmuy-O9x",
        "colab_type": "text"
      },
      "cell_type": "markdown",
      "source": [
        "## Tensor Reshaping\n",
        "\n",
        "With tensor addition and matrix multiplication each imposing constraints\n",
        "on operands, TensorFlow programmers must frequently reshape tensors. \n",
        "\n",
        "You can use the `tf.reshape` method to reshape a tensor. \n",
        "For example, you can reshape a 8x2 tensor into a 2x8 tensor or a 4x4 tensor:"
      ]
    },
    {
      "metadata": {
        "id": "L05ob6a_G77m",
        "colab_type": "code",
        "colab": {
          "autoexec": {
            "startup": false,
            "wait_interval": 0
          },
          "base_uri": "https://localhost:8080/",
          "height": 467
        },
        "outputId": "69ae9fd2-47f4-42b2-a468-d680fd7b2cdb",
        "executionInfo": {
          "status": "ok",
          "timestamp": 1528063129553,
          "user_tz": 360,
          "elapsed": 325,
          "user": {
            "displayName": "",
            "photoUrl": "",
            "userId": ""
          }
        }
      },
      "cell_type": "code",
      "source": [
        "with tf.Graph().as_default():\n",
        "  # Create an 8x2 matrix (2-D tensor).\n",
        "  matrix = tf.constant([[1,2], [3,4], [5,6], [7,8],\n",
        "                        [9,10], [11,12], [13, 14], [15,16]], dtype=tf.int32)\n",
        "\n",
        "  # Reshape the 8x2 matrix into a 2x8 matrix.\n",
        "  reshaped_2x8_matrix = tf.reshape(matrix, [2,8])\n",
        "  \n",
        "  # Reshape the 8x2 matrix into a 4x4 matrix\n",
        "  reshaped_4x4_matrix = tf.reshape(matrix, [4,4])\n",
        "  \n",
        "  reshaped_16_tensor = tf.reshape(matrix, [16])\n",
        "  reshaped_2x2x4_tensor = tf.reshape(matrix, [2, 2, 4])\n",
        "\n",
        "  with tf.Session() as sess:\n",
        "    print \"Original matrix (8x2):\"\n",
        "    print matrix.eval()\n",
        "    print \"Reshaped matrix (2x8):\"\n",
        "    print reshaped_2x8_matrix.eval()\n",
        "    print \"Reshaped matrix (4x4):\"\n",
        "    print reshaped_4x4_matrix.eval()\n",
        "    print \"Reshaped 1-D 16-element tensor:\\n{0}\".format(reshaped_16_tensor.eval())\n",
        "    print \"Reshaped 3-D 2x2x4 tensor:\\n{0}\".format(reshaped_2x2x4_tensor.eval())"
      ],
      "execution_count": 0,
      "outputs": [
        {
          "output_type": "stream",
          "text": [
            "Original matrix (8x2):\n",
            "[[ 1  2]\n",
            " [ 3  4]\n",
            " [ 5  6]\n",
            " [ 7  8]\n",
            " [ 9 10]\n",
            " [11 12]\n",
            " [13 14]\n",
            " [15 16]]\n",
            "Reshaped matrix (2x8):\n",
            "[[ 1  2  3  4  5  6  7  8]\n",
            " [ 9 10 11 12 13 14 15 16]]\n",
            "Reshaped matrix (4x4):\n",
            "[[ 1  2  3  4]\n",
            " [ 5  6  7  8]\n",
            " [ 9 10 11 12]\n",
            " [13 14 15 16]]\n",
            "Reshaped 1-D 16-element tensor:\n",
            "[ 1  2  3  4  5  6  7  8  9 10 11 12 13 14 15 16]\n",
            "Reshaped 3-D 2x2x4 tensor:\n",
            "[[[ 1  2  3  4]\n",
            "  [ 5  6  7  8]]\n",
            "\n",
            " [[ 9 10 11 12]\n",
            "  [13 14 15 16]]]\n"
          ],
          "name": "stdout"
        }
      ]
    },
    {
      "metadata": {
        "id": "b6cFa92YGyU5",
        "colab_type": "text"
      },
      "cell_type": "markdown",
      "source": [
        "\n",
        "You can also use `tf.reshape` to change the number of dimensions (the \"rank\") of the tensor.\n",
        "For example, you could reshape that 8x2 tensor into a 3-D 2x2x4 tensor or a 1-D 16-element tensor."
      ]
    },
    {
      "metadata": {
        "id": "3MpcwWj9-Sqp",
        "colab_type": "code",
        "colab": {
          "autoexec": {
            "startup": false,
            "wait_interval": 0
          },
          "base_uri": "https://localhost:8080/",
          "height": 323
        },
        "outputId": "bc8f3dcf-9c81-46c0-fc7c-00396c5e179d",
        "executionInfo": {
          "status": "ok",
          "timestamp": 1528063160957,
          "user_tz": 360,
          "elapsed": 352,
          "user": {
            "displayName": "",
            "photoUrl": "",
            "userId": ""
          }
        }
      },
      "cell_type": "code",
      "source": [
        "with tf.Graph().as_default():\n",
        "  # Create an 8x2 matrix (2-D tensor).\n",
        "  matrix = tf.constant([[1,2], [3,4], [5,6], [7,8],\n",
        "                        [9,10], [11,12], [13, 14], [15,16]], dtype=tf.int32)\n",
        "\n",
        "  # Reshape the 8x2 matrix into a 3-D 2x2x4 tensor.\n",
        "  reshaped_2x2x4_tensor = tf.reshape(matrix, [2,2,4])\n",
        "  \n",
        "  # Reshape the 8x2 matrix into a 1-D 16-element tensor.\n",
        "  one_dimensional_vector = tf.reshape(matrix, [16])\n",
        "\n",
        "  with tf.Session() as sess:\n",
        "    print \"Original matrix (8x2):\"\n",
        "    print matrix.eval()\n",
        "    print \"Reshaped 3-D tensor (2x2x4):\"\n",
        "    print reshaped_2x2x4_tensor.eval()\n",
        "    print \"1-D vector:\"\n",
        "    print one_dimensional_vector.eval()"
      ],
      "execution_count": 0,
      "outputs": [
        {
          "output_type": "stream",
          "text": [
            "Original matrix (8x2):\n",
            "[[ 1  2]\n",
            " [ 3  4]\n",
            " [ 5  6]\n",
            " [ 7  8]\n",
            " [ 9 10]\n",
            " [11 12]\n",
            " [13 14]\n",
            " [15 16]]\n",
            "Reshaped 3-D tensor (2x2x4):\n",
            "[[[ 1  2  3  4]\n",
            "  [ 5  6  7  8]]\n",
            "\n",
            " [[ 9 10 11 12]\n",
            "  [13 14 15 16]]]\n",
            "1-D vector:\n",
            "[ 1  2  3  4  5  6  7  8  9 10 11 12 13 14 15 16]\n"
          ],
          "name": "stdout"
        }
      ]
    },
    {
      "metadata": {
        "id": "CrpowaWo-VLq",
        "colab_type": "text"
      },
      "cell_type": "markdown",
      "source": [
        "### Exercise #1: Reshape two tensors in order to multiply them.\n",
        "\n",
        "The following two vectors are incompatible for matrix multiplication:\n",
        "\n",
        "  *  `a = tf.constant([5, 3, 2, 7, 1, 4])`\n",
        "  *  `b = tf.constant([4, 6, 3])`\n",
        "\n",
        "Reshape these vectors into compatible operands for matrix multiplication.\n",
        "Then, invoke a matrix multiplication operation on the reshaped tensors."
      ]
    },
    {
      "metadata": {
        "id": "p6idvaeK-Zxq",
        "colab_type": "code",
        "colab": {
          "autoexec": {
            "startup": false,
            "wait_interval": 0
          },
          "base_uri": "https://localhost:8080/",
          "height": 269
        },
        "outputId": "d1454984-fa20-4482-a1ea-5bf4406ec9fb",
        "executionInfo": {
          "status": "ok",
          "timestamp": 1528063513738,
          "user_tz": 360,
          "elapsed": 536,
          "user": {
            "displayName": "",
            "photoUrl": "",
            "userId": ""
          }
        }
      },
      "cell_type": "code",
      "source": [
        "  # Write your code for Task 1 here.\n",
        "  with tf.Graph().as_default():\n",
        "    a = tf.constant([5, 3, 2, 7, 1, 4], dtype=tf.int32)\n",
        "    b = tf.constant([4, 6, 3], dtype=tf.int32)\n",
        "    \n",
        "    reshaped_a = tf.reshape(a, [2, 3])\n",
        "    reshaped_b = tf.reshape(b, [3, 1])\n",
        "    \n",
        "    product = tf.matmul(reshaped_a, reshaped_b)\n",
        "    \n",
        "    with tf.Session() as sess:\n",
        "      print \"a.eval() = \\n{0}\".format(a.eval())\n",
        "      print \"b.eval() = \\n{0}\".format(b.eval())\n",
        "      print \"reshaped_a.eval() = \\n{0}\".format(reshaped_a.eval())\n",
        "      print \"reshaped_b.eval() = \\n{0}\".format(reshaped_b.eval())\n",
        "      print \"product.eval() = \\n{0}\".format(product.eval())"
      ],
      "execution_count": 0,
      "outputs": [
        {
          "output_type": "stream",
          "text": [
            "a.eval() = \n",
            "[5 3 2 7 1 4]\n",
            "b.eval() = \n",
            "[4 6 3]\n",
            "reshaped_a.eval() = \n",
            "[[5 3 2]\n",
            " [7 1 4]]\n",
            "reshaped_b.eval() = \n",
            "[[4]\n",
            " [6]\n",
            " [3]]\n",
            "product.eval() = \n",
            "[[44]\n",
            " [46]]\n"
          ],
          "name": "stdout"
        }
      ]
    },
    {
      "metadata": {
        "id": "EYzU56M4MG_x",
        "colab_type": "text"
      },
      "cell_type": "markdown",
      "source": [
        "### Solution\n",
        "\n",
        "Click below for a solution."
      ]
    },
    {
      "metadata": {
        "id": "8Sef4d0SMMtk",
        "colab_type": "code",
        "colab": {
          "autoexec": {
            "startup": false,
            "wait_interval": 0
          },
          "base_uri": "https://localhost:8080/",
          "height": 53
        },
        "outputId": "3e01076c-32bd-4fdf-e31c-d02591b51b05",
        "executionInfo": {
          "status": "ok",
          "timestamp": 1528063574191,
          "user_tz": 360,
          "elapsed": 374,
          "user": {
            "displayName": "",
            "photoUrl": "",
            "userId": ""
          }
        }
      },
      "cell_type": "code",
      "source": [
        "with tf.Graph().as_default(), tf.Session() as sess:\n",
        "  # Task: Reshape two tensors in order to multiply them\n",
        "  \n",
        "  # Here are the original operands, which are incompatible\n",
        "  # for matrix multiplication:\n",
        "  a = tf.constant([5, 3, 2, 7, 1, 4])\n",
        "  b = tf.constant([4, 6, 3])\n",
        "  # We need to reshape at least one of these operands so that\n",
        "  # the number of columns in the first operand equals the number\n",
        "  # of rows in the second operand.\n",
        "\n",
        "  # Reshape vector \"a\" into a 2-D 2x3 matrix:\n",
        "  reshaped_a = tf.reshape(a, [2,3])\n",
        "\n",
        "  # Reshape vector \"b\" into a 2-D 3x1 matrix:\n",
        "  reshaped_b = tf.reshape(b, [3,1])\n",
        "\n",
        "  # The number of columns in the first matrix now equals\n",
        "  # the number of rows in the second matrix. Therefore, you\n",
        "  # can matrix mutiply the two operands.\n",
        "  c = tf.matmul(reshaped_a, reshaped_b)\n",
        "  print(c.eval())\n",
        "\n",
        "  # An alternate approach: [6,1] x [1, 3] -> [6,3]"
      ],
      "execution_count": 0,
      "outputs": [
        {
          "output_type": "stream",
          "text": [
            "[[44]\n",
            " [46]]\n"
          ],
          "name": "stdout"
        }
      ]
    },
    {
      "metadata": {
        "id": "x1JYo7iE2oKk",
        "colab_type": "text"
      },
      "cell_type": "markdown",
      "source": [
        "## Variables, Initialization and Assignment\n",
        "\n",
        "So far, all the operations we performed were on static values (`tf.constant`); calling `eval()` always returned the same result. TensorFlow allows you to define `Variable` objects, whose values can be changed. \n",
        "\n",
        "When creating a variable, you can set an initial value explicitly, or you can use an initializer (like a distribution):"
      ]
    },
    {
      "metadata": {
        "id": "6opLnjfD3PdL",
        "colab_type": "code",
        "colab": {
          "autoexec": {
            "startup": false,
            "wait_interval": 0
          }
        }
      },
      "cell_type": "code",
      "source": [
        "g = tf.Graph()\n",
        "with g.as_default():\n",
        "  # Create a variable with the initial value 3.\n",
        "  v = tf.Variable([3])\n",
        "\n",
        "  # Create a variable of shape [1], with a random initial value,\n",
        "  # sampled from a normal distribution with mean 1 and standard deviation 0.35.\n",
        "  w = tf.Variable(tf.random_normal([1], mean=1.0, stddev=0.35))"
      ],
      "execution_count": 0,
      "outputs": []
    },
    {
      "metadata": {
        "id": "qDYRXHTA4PTB",
        "colab_type": "text"
      },
      "cell_type": "markdown",
      "source": [
        "One peculiarity of TensorFlow is that **variable initialization is not automatic**. For example, the following block will cause an error:"
      ]
    },
    {
      "metadata": {
        "id": "d0OX1YRY5PTP",
        "colab_type": "code",
        "colab": {
          "autoexec": {
            "startup": false,
            "wait_interval": 0
          },
          "base_uri": "https://localhost:8080/",
          "height": 53
        },
        "outputId": "705ccd5b-7ed6-4500-8482-6df1e073a1d3",
        "executionInfo": {
          "status": "ok",
          "timestamp": 1528064126156,
          "user_tz": 360,
          "elapsed": 341,
          "user": {
            "displayName": "",
            "photoUrl": "",
            "userId": ""
          }
        }
      },
      "cell_type": "code",
      "source": [
        "with g.as_default():\n",
        "  with tf.Session() as sess:\n",
        "    try:\n",
        "      v.eval()\n",
        "    except tf.errors.FailedPreconditionError as e:\n",
        "      print \"Caught expected error: \", e"
      ],
      "execution_count": 0,
      "outputs": [
        {
          "output_type": "stream",
          "text": [
            "Caught expected error:  Attempting to use uninitialized value Variable\n",
            "\t [[Node: _retval_Variable_0_0 = _Retval[T=DT_INT32, index=0, _device=\"/job:localhost/replica:0/task:0/device:CPU:0\"](Variable)]]\n"
          ],
          "name": "stdout"
        }
      ]
    },
    {
      "metadata": {
        "id": "v7_aT7Hr5rnC",
        "colab_type": "text"
      },
      "cell_type": "markdown",
      "source": [
        "The easiest way to initialize a variable is to call `global_variables_initializer`. Note the use of `Session.run()`, which is roughly equivalent to `eval()`."
      ]
    },
    {
      "metadata": {
        "id": "z2lvhrxI5zJF",
        "colab_type": "code",
        "colab": {
          "autoexec": {
            "startup": false,
            "wait_interval": 0
          },
          "base_uri": "https://localhost:8080/",
          "height": 53
        },
        "outputId": "7e3c0083-e8fe-42d7-aeb0-bd14244df9fa",
        "executionInfo": {
          "status": "ok",
          "timestamp": 1528064236934,
          "user_tz": 360,
          "elapsed": 377,
          "user": {
            "displayName": "",
            "photoUrl": "",
            "userId": ""
          }
        }
      },
      "cell_type": "code",
      "source": [
        "with g.as_default():\n",
        "  with tf.Session() as sess:\n",
        "    initialization = tf.global_variables_initializer()\n",
        "    sess.run(initialization)\n",
        "    # Now, variables can be accessed normally, and have values assigned to them.\n",
        "    print v.eval()\n",
        "    print w.eval()\n"
      ],
      "execution_count": 0,
      "outputs": [
        {
          "output_type": "stream",
          "text": [
            "[3]\n",
            "[1.046842]\n"
          ],
          "name": "stdout"
        }
      ]
    },
    {
      "metadata": {
        "id": "0GkYh7jf6JUd",
        "colab_type": "text"
      },
      "cell_type": "markdown",
      "source": [
        "Once initialized, variables will maintain their value within the same session (however, when starting a new session, you will need to re-initialize them):"
      ]
    },
    {
      "metadata": {
        "id": "_E8_lhS06IoV",
        "colab_type": "code",
        "colab": {
          "autoexec": {
            "startup": false,
            "wait_interval": 0
          },
          "base_uri": "https://localhost:8080/",
          "height": 71
        },
        "outputId": "4022b721-febf-4215-aa9c-29c26dcee091",
        "executionInfo": {
          "status": "ok",
          "timestamp": 1528064331668,
          "user_tz": 360,
          "elapsed": 508,
          "user": {
            "displayName": "",
            "photoUrl": "",
            "userId": ""
          }
        }
      },
      "cell_type": "code",
      "source": [
        "with g.as_default():\n",
        "  with tf.Session() as sess:\n",
        "    sess.run(tf.global_variables_initializer())\n",
        "    # These three prints will print the same value.\n",
        "    print w.eval()\n",
        "    print w.eval()\n",
        "    print w.eval()"
      ],
      "execution_count": 0,
      "outputs": [
        {
          "output_type": "stream",
          "text": [
            "[0.86392087]\n",
            "[0.86392087]\n",
            "[0.86392087]\n"
          ],
          "name": "stdout"
        }
      ]
    },
    {
      "metadata": {
        "id": "yrZ31hPw66uy",
        "colab_type": "text"
      },
      "cell_type": "markdown",
      "source": [
        "To change the value of a variable, use the `assign` op. Note that simply creating the `assign` op will not have any effect. As with initialization, you have to `run` the assignment op to update the variable value:"
      ]
    },
    {
      "metadata": {
        "id": "zD0D1DCR7NBX",
        "colab_type": "code",
        "colab": {
          "autoexec": {
            "startup": false,
            "wait_interval": 0
          },
          "base_uri": "https://localhost:8080/",
          "height": 71
        },
        "outputId": "71ae540f-eaa9-4ee1-fb59-d96c89968ea5",
        "executionInfo": {
          "status": "ok",
          "timestamp": 1528064386182,
          "user_tz": 360,
          "elapsed": 361,
          "user": {
            "displayName": "",
            "photoUrl": "",
            "userId": ""
          }
        }
      },
      "cell_type": "code",
      "source": [
        "with g.as_default():\n",
        "  with tf.Session() as sess:\n",
        "    sess.run(tf.global_variables_initializer())\n",
        "    # This should print the variable's initial value.\n",
        "    print v.eval()\n",
        "\n",
        "    assignment = tf.assign(v, [7])\n",
        "    # The variable has not been changed yet!\n",
        "    print v.eval()\n",
        "\n",
        "    # Execute the assignment op.\n",
        "    sess.run(assignment)\n",
        "    # Now the variable is updated.\n",
        "    print v.eval()"
      ],
      "execution_count": 0,
      "outputs": [
        {
          "output_type": "stream",
          "text": [
            "[3]\n",
            "[3]\n",
            "[7]\n"
          ],
          "name": "stdout"
        }
      ]
    },
    {
      "metadata": {
        "id": "tB78Zq4h78Zr",
        "colab_type": "text"
      },
      "cell_type": "markdown",
      "source": [
        "There are many more topics about variables that we didn't cover here, such as loading and storing. To learn more, see the [TensorFlow docs](https://www.tensorflow.org/programmers_guide/variables)."
      ]
    },
    {
      "metadata": {
        "id": "iFIOcnfz_Oqw",
        "colab_type": "text"
      },
      "cell_type": "markdown",
      "source": [
        "### Exercise #2: Simulate 10 rolls of two dice.\n",
        "\n",
        "Create a dice simulation, which generates a `10x3` 2-D tensor in which:\n",
        "\n",
        "  * Columns `1` and `2` each hold one throw of one six-sided die (with values 1–6).\n",
        "  * Column `3` holds the sum of Columns `1` and `2` on the same row.\n",
        "\n",
        "For example, the first row might have the following values:\n",
        "\n",
        "  * Column `1` holds `4`\n",
        "  * Column `2` holds `3`\n",
        "  * Column `3` holds `7`\n",
        "\n",
        "You'll need to explore the [TensorFlow documentation](https://www.tensorflow.org/api_guides/python/array_ops) to solve this task."
      ]
    },
    {
      "metadata": {
        "id": "ocwT0iXH-nhT",
        "colab_type": "code",
        "colab": {
          "autoexec": {
            "startup": false,
            "wait_interval": 0
          },
          "base_uri": "https://localhost:8080/",
          "height": 197
        },
        "outputId": "a98de310-02d7-49ff-943e-d8be6ac10544",
        "executionInfo": {
          "status": "ok",
          "timestamp": 1528065779084,
          "user_tz": 360,
          "elapsed": 326,
          "user": {
            "displayName": "",
            "photoUrl": "",
            "userId": ""
          }
        }
      },
      "cell_type": "code",
      "source": [
        "# Write your code for Task 2 here.\n",
        "with g.as_default():\n",
        "  dice_10x2 = tf.Variable(tf.random_uniform([10, 2],\n",
        "                                            minval=1,\n",
        "                                            maxval=7,\n",
        "                                            dtype=tf.int32))\n",
        "  dice_sum = tf.reduce_sum(dice_10x2,\n",
        "                           axis=1,\n",
        "                           keepdims=True)\n",
        "  dice_10x3 = tf.concat(values=[dice_10x2, dice_sum],\n",
        "                        axis=1)\n",
        "  \n",
        "  with tf.Session() as sess:\n",
        "    sess.run(tf.global_variables_initializer())\n",
        "#     print dice_10x2.eval()\n",
        "#     print dice_sum.eval()\n",
        "    print dice_10x3.eval()\n",
        "  "
      ],
      "execution_count": 0,
      "outputs": [
        {
          "output_type": "stream",
          "text": [
            "[[ 4  5  9]\n",
            " [ 2  6  8]\n",
            " [ 1  3  4]\n",
            " [ 1  3  4]\n",
            " [ 5  5 10]\n",
            " [ 3  6  9]\n",
            " [ 3  4  7]\n",
            " [ 6  4 10]\n",
            " [ 1  5  6]\n",
            " [ 6  2  8]]\n"
          ],
          "name": "stdout"
        }
      ]
    },
    {
      "metadata": {
        "id": "Kt7aojXkR_qS",
        "colab_type": "text"
      },
      "cell_type": "markdown",
      "source": [
        "### Solution\n",
        "\n",
        "Click below for a solution."
      ]
    },
    {
      "metadata": {
        "id": "6UUluecQSCvr",
        "colab_type": "code",
        "colab": {
          "autoexec": {
            "startup": false,
            "wait_interval": 0
          },
          "base_uri": "https://localhost:8080/",
          "height": 197
        },
        "outputId": "b06ed702-49ab-406d-a889-07dad18dc323",
        "executionInfo": {
          "status": "ok",
          "timestamp": 1528065785622,
          "user_tz": 360,
          "elapsed": 350,
          "user": {
            "displayName": "",
            "photoUrl": "",
            "userId": ""
          }
        }
      },
      "cell_type": "code",
      "source": [
        "with tf.Graph().as_default(), tf.Session() as sess:\n",
        "  # Task 2: Simulate 10 throws of two six-sided dice. Store the results\n",
        "  # in a 10x3 matrix.\n",
        "\n",
        "  # We're going to place dice throws inside two separate\n",
        "  # 10x1 matrices. We could have placed dice throws inside\n",
        "  # a single 10x2 matrix, but adding different columns of\n",
        "  # the same matrix is tricky. We also could have placed\n",
        "  # dice throws inside two 1-D tensors (vectors); doing so\n",
        "  # would require transposing the result.\n",
        "  dice1 = tf.Variable(tf.random_uniform([10, 1],\n",
        "                                        minval=1, maxval=7,\n",
        "                                        dtype=tf.int32))\n",
        "  dice2 = tf.Variable(tf.random_uniform([10, 1],\n",
        "                                        minval=1, maxval=7,\n",
        "                                        dtype=tf.int32))\n",
        "\n",
        "  # We may add dice1 and dice2 since they share the same shape\n",
        "  # and size.\n",
        "  dice_sum = tf.add(dice1, dice2)\n",
        "\n",
        "  # We've got three separate 10x1 matrices. To produce a single\n",
        "  # 10x3 matrix, we'll concatenate them along dimension 1.\n",
        "  resulting_matrix = tf.concat(\n",
        "      values=[dice1, dice2, dice_sum], axis=1)\n",
        "\n",
        "  # The variables haven't been initialized within the graph yet,\n",
        "  # so let's remedy that.\n",
        "  sess.run(tf.global_variables_initializer())\n",
        "\n",
        "  print(resulting_matrix.eval())"
      ],
      "execution_count": 0,
      "outputs": [
        {
          "output_type": "stream",
          "text": [
            "[[ 3  5  8]\n",
            " [ 1  1  2]\n",
            " [ 3  5  8]\n",
            " [ 5  5 10]\n",
            " [ 2  3  5]\n",
            " [ 4  1  5]\n",
            " [ 3  2  5]\n",
            " [ 5  1  6]\n",
            " [ 1  4  5]\n",
            " [ 3  1  4]]\n"
          ],
          "name": "stdout"
        }
      ]
    }
  ]
}